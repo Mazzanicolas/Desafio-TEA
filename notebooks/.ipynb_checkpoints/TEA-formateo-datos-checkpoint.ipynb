{
 "cells": [
  {
   "cell_type": "markdown",
   "metadata": {},
   "source": [
    "# Desafio TEA\n",
    "\n",
    "#### Eduardo Pérez\n",
    "#### Nicolás Mazza"
   ]
  },
  {
   "cell_type": "markdown",
   "metadata": {},
   "source": [
    "Importando librerias necesarias para el estudio de los datos"
   ]
  },
  {
   "cell_type": "markdown",
   "metadata": {},
   "source": [
    "```\n",
    "{\n",
    "    \"timestamp\": {\n",
    "        \"type\": \"DateTime\",\n",
    "        \"metadata\": {},\n",
    "        \"value\": \"2018-10-02T16:41:11\"\n",
    "    },\n",
    "    \"id\": 75,\n",
    "    \"codigoBus\": {\n",
    "        \"type\": \"Number\",\n",
    "        \"metadata\": {}, \n",
    "        \"value\": 75\n",
    "    }, \n",
    "    \"type\": \"Bus\",\n",
    "    \"linea\": {\n",
    "        \"type\": \"Text\", \n",
    "        \"metadata\": {},\n",
    "        \"value\": \"566\"\n",
    "    }, \n",
    "    \"location\": {\n",
    "        \"type\": \"geo:json\",\n",
    "        \"metadata\": {},\n",
    "        \"value\": {\n",
    "            \"type\": \"Point\", \n",
    "            \"coordinates\": [-56.110195, -34.88714]\n",
    "        }\n",
    "    }\n",
    "}```"
   ]
  },
  {
   "cell_type": "code",
   "execution_count": 23,
   "metadata": {},
   "outputs": [],
   "source": [
    "import pandas as pd\n",
    "import numpy as np\n",
    "import matplotlib.pyplot as plt\n",
    "import seaborn as sns\n",
    "import json"
   ]
  },
  {
   "cell_type": "code",
   "execution_count": 24,
   "metadata": {},
   "outputs": [],
   "source": [
    "with open('../data/buses.json', 'r') as data_file:\n",
    "    data = json.load(data_file)\n",
    "\n",
    "for element in data:\n",
    "    del element['objectId']\n",
    "    del element['type']\n",
    "    del element['timestamp']['type']\n",
    "    del element['timestamp']['metadata']\n",
    "    del element['codigoBus']['type']\n",
    "    del element['codigoBus']['metadata']\n",
    "    del element['linea']['type']\n",
    "    del element['linea']['metadata']\n",
    "    del element['location']['type']\n",
    "    del element['location']['metadata']\n",
    "    del element['location']['value']['type']\n",
    "    \n",
    "with open('../data/_buses.json', 'w') as data_file:\n",
    "    data = json.dump(data, data_file)"
   ]
  },
  {
   "cell_type": "code",
   "execution_count": 78,
   "metadata": {},
   "outputs": [],
   "source": [
    "bus_data = pd.read_json('../data/_buses.json', lines=True, chunksize=1)\n",
    "\n",
    "for data in bus_data:\n",
    "    entry = data\n",
    "    break"
   ]
  },
  {
   "cell_type": "code",
   "execution_count": 79,
   "metadata": {},
   "outputs": [
    {
     "data": {
      "text/html": [
       "<div>\n",
       "<style scoped>\n",
       "    .dataframe tbody tr th:only-of-type {\n",
       "        vertical-align: middle;\n",
       "    }\n",
       "\n",
       "    .dataframe tbody tr th {\n",
       "        vertical-align: top;\n",
       "    }\n",
       "\n",
       "    .dataframe thead th {\n",
       "        text-align: right;\n",
       "    }\n",
       "</style>\n",
       "<table border=\"1\" class=\"dataframe\">\n",
       "  <thead>\n",
       "    <tr style=\"text-align: right;\">\n",
       "      <th></th>\n",
       "      <th>0</th>\n",
       "      <th>1</th>\n",
       "      <th>2</th>\n",
       "      <th>3</th>\n",
       "      <th>4</th>\n",
       "      <th>5</th>\n",
       "      <th>6</th>\n",
       "      <th>7</th>\n",
       "      <th>8</th>\n",
       "      <th>9</th>\n",
       "      <th>...</th>\n",
       "      <th>230545</th>\n",
       "      <th>230546</th>\n",
       "      <th>230547</th>\n",
       "      <th>230548</th>\n",
       "      <th>230549</th>\n",
       "      <th>230550</th>\n",
       "      <th>230551</th>\n",
       "      <th>230552</th>\n",
       "      <th>230553</th>\n",
       "      <th>230554</th>\n",
       "    </tr>\n",
       "  </thead>\n",
       "  <tbody>\n",
       "    <tr>\n",
       "      <th>0</th>\n",
       "      <td>{'location': {'value': {'coordinates': [-56.11...</td>\n",
       "      <td>{'location': {'value': {'coordinates': [-56.19...</td>\n",
       "      <td>{'location': {'value': {'coordinates': [-56.16...</td>\n",
       "      <td>{'location': {'value': {'coordinates': [-56.13...</td>\n",
       "      <td>{'location': {'value': {'coordinates': [-56.11...</td>\n",
       "      <td>{'location': {'value': {'coordinates': [-56.16...</td>\n",
       "      <td>{'location': {'value': {'coordinates': [-56.19...</td>\n",
       "      <td>{'location': {'value': {'coordinates': [-56.19...</td>\n",
       "      <td>{'location': {'value': {'coordinates': [-56.19...</td>\n",
       "      <td>{'location': {'value': {'coordinates': [-56.20...</td>\n",
       "      <td>...</td>\n",
       "      <td>{'location': {'value': {'coordinates': [-56.20...</td>\n",
       "      <td>{'location': {'value': {'coordinates': [-56.11...</td>\n",
       "      <td>{'location': {'value': {'coordinates': [-56.17...</td>\n",
       "      <td>{'location': {'value': {'coordinates': [-56.08...</td>\n",
       "      <td>{'location': {'value': {'coordinates': [-56.11...</td>\n",
       "      <td>{'location': {'value': {'coordinates': [-56.17...</td>\n",
       "      <td>{'location': {'value': {'coordinates': [-56.16...</td>\n",
       "      <td>{'location': {'value': {'coordinates': [-56.17...</td>\n",
       "      <td>{'location': {'value': {'coordinates': [-56.11...</td>\n",
       "      <td>{'location': {'value': {'coordinates': [-56.12...</td>\n",
       "    </tr>\n",
       "  </tbody>\n",
       "</table>\n",
       "<p>1 rows × 230555 columns</p>\n",
       "</div>"
      ],
      "text/plain": [
       "                                              0       \\\n",
       "0  {'location': {'value': {'coordinates': [-56.11...   \n",
       "\n",
       "                                              1       \\\n",
       "0  {'location': {'value': {'coordinates': [-56.19...   \n",
       "\n",
       "                                              2       \\\n",
       "0  {'location': {'value': {'coordinates': [-56.16...   \n",
       "\n",
       "                                              3       \\\n",
       "0  {'location': {'value': {'coordinates': [-56.13...   \n",
       "\n",
       "                                              4       \\\n",
       "0  {'location': {'value': {'coordinates': [-56.11...   \n",
       "\n",
       "                                              5       \\\n",
       "0  {'location': {'value': {'coordinates': [-56.16...   \n",
       "\n",
       "                                              6       \\\n",
       "0  {'location': {'value': {'coordinates': [-56.19...   \n",
       "\n",
       "                                              7       \\\n",
       "0  {'location': {'value': {'coordinates': [-56.19...   \n",
       "\n",
       "                                              8       \\\n",
       "0  {'location': {'value': {'coordinates': [-56.19...   \n",
       "\n",
       "                                              9       \\\n",
       "0  {'location': {'value': {'coordinates': [-56.20...   \n",
       "\n",
       "                         ...                          \\\n",
       "0                        ...                           \n",
       "\n",
       "                                              230545  \\\n",
       "0  {'location': {'value': {'coordinates': [-56.20...   \n",
       "\n",
       "                                              230546  \\\n",
       "0  {'location': {'value': {'coordinates': [-56.11...   \n",
       "\n",
       "                                              230547  \\\n",
       "0  {'location': {'value': {'coordinates': [-56.17...   \n",
       "\n",
       "                                              230548  \\\n",
       "0  {'location': {'value': {'coordinates': [-56.08...   \n",
       "\n",
       "                                              230549  \\\n",
       "0  {'location': {'value': {'coordinates': [-56.11...   \n",
       "\n",
       "                                              230550  \\\n",
       "0  {'location': {'value': {'coordinates': [-56.17...   \n",
       "\n",
       "                                              230551  \\\n",
       "0  {'location': {'value': {'coordinates': [-56.16...   \n",
       "\n",
       "                                              230552  \\\n",
       "0  {'location': {'value': {'coordinates': [-56.17...   \n",
       "\n",
       "                                              230553  \\\n",
       "0  {'location': {'value': {'coordinates': [-56.11...   \n",
       "\n",
       "                                              230554  \n",
       "0  {'location': {'value': {'coordinates': [-56.12...  \n",
       "\n",
       "[1 rows x 230555 columns]"
      ]
     },
     "execution_count": 79,
     "metadata": {},
     "output_type": "execute_result"
    }
   ],
   "source": [
    "entry"
   ]
  },
  {
   "cell_type": "code",
   "execution_count": 80,
   "metadata": {},
   "outputs": [],
   "source": [
    "entry_as_string = entry.applymap(lambda x: str(x))"
   ]
  },
  {
   "cell_type": "code",
   "execution_count": 81,
   "metadata": {},
   "outputs": [],
   "source": [
    "entry_as_string = entry_as_string.values.reshape(-1,1)"
   ]
  },
  {
   "cell_type": "code",
   "execution_count": 82,
   "metadata": {},
   "outputs": [
    {
     "data": {
      "text/plain": [
       "array([[\"{'location': {'value': {'coordinates': [-56.110195, -34.88714]}}, 'codigoBus': {'value': 75}, 'linea': {'value': '566'}, 'timestamp': {'value': '2018-10-02T16:41:11'}, 'id': 75}\"],\n",
       "       [\"{'location': {'value': {'coordinates': [-56.191277, -34.90597]}}, 'codigoBus': {'value': 1111}, 'linea': {'value': '254'}, 'timestamp': {'value': '2018-10-02T16:41:11'}, 'id': 1111}\"],\n",
       "       [\"{'location': {'value': {'coordinates': [-56.16672, -34.897167]}}, 'codigoBus': {'value': 957}, 'linea': {'value': '7902'}, 'timestamp': {'value': '2018-10-02T16:41:11'}, 'id': 957}\"],\n",
       "       ...,\n",
       "       [\"{'location': {'value': {'coordinates': [-56.175167, -34.903778]}}, 'codigoBus': {'value': 121}, 'linea': {'value': '7704'}, 'timestamp': {'value': '2018-10-02T18:10:28'}, 'id': 121}\"],\n",
       "       [\"{'location': {'value': {'coordinates': [-56.111305, -34.883278]}}, 'codigoBus': {'value': 301}, 'linea': {'value': '7903'}, 'timestamp': {'value': '2018-10-02T18:10:28'}, 'id': 301}\"],\n",
       "       [\"{'location': {'value': {'coordinates': [-56.12886, -34.83311]}}, 'codigoBus': {'value': 89}, 'linea': {'value': '227'}, 'timestamp': {'value': '2018-10-02T18:10:28'}, 'id': 89}\"]],\n",
       "      dtype=object)"
      ]
     },
     "execution_count": 82,
     "metadata": {},
     "output_type": "execute_result"
    }
   ],
   "source": [
    "entry_as_string"
   ]
  },
  {
   "cell_type": "code",
   "execution_count": 83,
   "metadata": {},
   "outputs": [],
   "source": [
    "unique_data = np.unique(entry_as_string)"
   ]
  },
  {
   "cell_type": "code",
   "execution_count": 84,
   "metadata": {},
   "outputs": [
    {
     "name": "stdout",
     "output_type": "stream",
     "text": [
      "Original Values: 230555\n",
      "Unique Values: 63939\n",
      "Duplicated Values: 166616\n"
     ]
    }
   ],
   "source": [
    "print('Original Values: {0}\\nUnique Values: {1}\\nDuplicated Values: {2}'.format(len(entry_as_string),\n",
    "                                                                              len(unique_data),\n",
    "                                                                              (len(entry_as_string)-len(unique_data))))"
   ]
  },
  {
   "cell_type": "code",
   "execution_count": 85,
   "metadata": {},
   "outputs": [
    {
     "data": {
      "text/plain": [
       "array([\"{'location': {'value': {'coordinates': [-56.110195, -34.88714]}}, 'codigoBus': {'value': 75}, 'linea': {'value': '566'}, 'timestamp': {'value': '2018-10-02T16:41:11'}, 'id': 75}\"],\n",
       "      dtype=object)"
      ]
     },
     "execution_count": 85,
     "metadata": {},
     "output_type": "execute_result"
    }
   ],
   "source": [
    "entry_as_string[0]"
   ]
  },
  {
   "cell_type": "code",
   "execution_count": 86,
   "metadata": {},
   "outputs": [
    {
     "data": {
      "text/plain": [
       "array([\"{'location': {'value': {'coordinates': [-56.20189, -34.90764]}}, 'codigoBus': {'value': 961}, 'linea': {'value': '340'}, 'timestamp': {'value': '2018-10-02T18:09:28'}, 'id': 961}\"],\n",
       "      dtype=object)"
      ]
     },
     "execution_count": 86,
     "metadata": {},
     "output_type": "execute_result"
    }
   ],
   "source": [
    "entry_as_string[63939]"
   ]
  },
  {
   "cell_type": "code",
   "execution_count": 126,
   "metadata": {},
   "outputs": [],
   "source": [
    "with open('../data/unique_buses.json', 'w') as data_file:\n",
    "    for _entry in unique_data:\n",
    "        data_file.writelines(_entry+'\\n')\n",
    "    data_file.close()"
   ]
  },
  {
   "cell_type": "code",
   "execution_count": 135,
   "metadata": {},
   "outputs": [],
   "source": [
    "bus_data = pd.read_json('../data/unique_buses.json', lines=True, chunksize=1)"
   ]
  },
  {
   "cell_type": "markdown",
   "metadata": {},
   "source": [
    "Replace in your favorite text editor `'` for `\"`"
   ]
  },
  {
   "cell_type": "code",
   "execution_count": 192,
   "metadata": {},
   "outputs": [],
   "source": [
    "data = pd.DataFrame(columns=['coordinates_x','coordinates_y','bus_code','line','time_stamp','id'])\n",
    "coordinates_x = []\n",
    "coordinates_y = []\n",
    "bus_code = []\n",
    "lines = []\n",
    "time_stamp = []\n",
    "ids = []\n",
    "with open('../data/unique_buses.json', 'r') as file:\n",
    "    for line in file:\n",
    "        line  = str(line.strip())\n",
    "        entry = json.loads(line)\n",
    "        coordinates_x.append(entry['location']['value']['coordinates'][0])\n",
    "        coordinates_y.append(entry['location']['value']['coordinates'][1])\n",
    "        bus_code.append(entry['codigoBus']['value'])\n",
    "        lines.append(entry['linea']['value'])\n",
    "        time_stamp.append(entry[\"timestamp\"]['value'])\n",
    "        ids.append(entry[\"id\"])\n",
    "data['coordinates_x'] = coordinates_x\n",
    "data['coordinates_y'] = coordinates_y\n",
    "data['bus_code'] = bus_code\n",
    "data['line'] = lines\n",
    "data['time_stamp'] = time_stamp\n",
    "data['id'] = ids"
   ]
  },
  {
   "cell_type": "code",
   "execution_count": 200,
   "metadata": {},
   "outputs": [
    {
     "data": {
      "text/html": [
       "<div>\n",
       "<style scoped>\n",
       "    .dataframe tbody tr th:only-of-type {\n",
       "        vertical-align: middle;\n",
       "    }\n",
       "\n",
       "    .dataframe tbody tr th {\n",
       "        vertical-align: top;\n",
       "    }\n",
       "\n",
       "    .dataframe thead th {\n",
       "        text-align: right;\n",
       "    }\n",
       "</style>\n",
       "<table border=\"1\" class=\"dataframe\">\n",
       "  <thead>\n",
       "    <tr style=\"text-align: right;\">\n",
       "      <th></th>\n",
       "      <th>coordinates_x</th>\n",
       "      <th>coordinates_y</th>\n",
       "      <th>bus_code</th>\n",
       "      <th>line</th>\n",
       "      <th>time_stamp</th>\n",
       "      <th>id</th>\n",
       "    </tr>\n",
       "  </thead>\n",
       "  <tbody>\n",
       "    <tr>\n",
       "      <th>0</th>\n",
       "      <td>-55.995388</td>\n",
       "      <td>-34.86011</td>\n",
       "      <td>252</td>\n",
       "      <td>863</td>\n",
       "      <td>2018-10-02T17:07:12</td>\n",
       "      <td>252</td>\n",
       "    </tr>\n",
       "    <tr>\n",
       "      <th>1</th>\n",
       "      <td>-55.995388</td>\n",
       "      <td>-34.86011</td>\n",
       "      <td>252</td>\n",
       "      <td>863</td>\n",
       "      <td>2018-10-02T17:07:27</td>\n",
       "      <td>252</td>\n",
       "    </tr>\n",
       "    <tr>\n",
       "      <th>2</th>\n",
       "      <td>-55.995388</td>\n",
       "      <td>-34.86011</td>\n",
       "      <td>252</td>\n",
       "      <td>863</td>\n",
       "      <td>2018-10-02T17:07:42</td>\n",
       "      <td>252</td>\n",
       "    </tr>\n",
       "    <tr>\n",
       "      <th>3</th>\n",
       "      <td>-55.995388</td>\n",
       "      <td>-34.86011</td>\n",
       "      <td>252</td>\n",
       "      <td>863</td>\n",
       "      <td>2018-10-02T17:07:57</td>\n",
       "      <td>252</td>\n",
       "    </tr>\n",
       "    <tr>\n",
       "      <th>4</th>\n",
       "      <td>-55.995388</td>\n",
       "      <td>-34.86011</td>\n",
       "      <td>252</td>\n",
       "      <td>863</td>\n",
       "      <td>2018-10-02T17:08:12</td>\n",
       "      <td>252</td>\n",
       "    </tr>\n",
       "  </tbody>\n",
       "</table>\n",
       "</div>"
      ],
      "text/plain": [
       "   coordinates_x  coordinates_y  bus_code line           time_stamp   id\n",
       "0     -55.995388      -34.86011       252  863  2018-10-02T17:07:12  252\n",
       "1     -55.995388      -34.86011       252  863  2018-10-02T17:07:27  252\n",
       "2     -55.995388      -34.86011       252  863  2018-10-02T17:07:42  252\n",
       "3     -55.995388      -34.86011       252  863  2018-10-02T17:07:57  252\n",
       "4     -55.995388      -34.86011       252  863  2018-10-02T17:08:12  252"
      ]
     },
     "execution_count": 200,
     "metadata": {},
     "output_type": "execute_result"
    }
   ],
   "source": [
    "data.head()"
   ]
  },
  {
   "cell_type": "code",
   "execution_count": 201,
   "metadata": {},
   "outputs": [],
   "source": [
    "data.to_csv('../data/formatted_data.csv')"
   ]
  },
  {
   "cell_type": "code",
   "execution_count": null,
   "metadata": {},
   "outputs": [],
   "source": []
  }
 ],
 "metadata": {
  "kernelspec": {
   "display_name": "Python 3",
   "language": "python",
   "name": "python3"
  },
  "language_info": {
   "codemirror_mode": {
    "name": "ipython",
    "version": 3
   },
   "file_extension": ".py",
   "mimetype": "text/x-python",
   "name": "python",
   "nbconvert_exporter": "python",
   "pygments_lexer": "ipython3",
   "version": "3.5.5"
  }
 },
 "nbformat": 4,
 "nbformat_minor": 2
}
