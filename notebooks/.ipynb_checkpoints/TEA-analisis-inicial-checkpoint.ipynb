{
 "cells": [
  {
   "cell_type": "markdown",
   "metadata": {},
   "source": [
    "# Desafio TEA\n",
    "\n",
    "#### Eduardo Pérez\n",
    "#### Nicolás Mazza"
   ]
  },
  {
   "cell_type": "markdown",
   "metadata": {},
   "source": [
    "Importando librerias necesarias para el estudio de los datos"
   ]
  },
  {
   "cell_type": "code",
   "execution_count": 74,
   "metadata": {},
   "outputs": [],
   "source": [
    "import pandas as pd\n",
    "import numpy as np\n",
    "import matplotlib.pyplot as plt\n",
    "import seaborn as sns\n",
    "import json"
   ]
  },
  {
   "cell_type": "code",
   "execution_count": null,
   "metadata": {},
   "outputs": [],
   "source": [
    "with open('../data/buses.json', 'r') as data_file:\n",
    "    data = json.load(data_file)\n",
    "\n",
    "for element in data:\n",
    "    element.pop('objectId', None)\n",
    "\n",
    "with open('../data/_buses.json', 'w') as data_file:\n",
    "    data = json.dump(data, data_file)"
   ]
  },
  {
   "cell_type": "code",
   "execution_count": 27,
   "metadata": {},
   "outputs": [],
   "source": [
    "bus_data = pd.read_json('../data/buses.json', lines=True, chunksize=1)\n",
    "\n",
    "for data in bus_data:\n",
    "    entry = data\n",
    "    break\n"
   ]
  },
  {
   "cell_type": "code",
   "execution_count": 28,
   "metadata": {},
   "outputs": [
    {
     "data": {
      "text/html": [
       "<div>\n",
       "<style scoped>\n",
       "    .dataframe tbody tr th:only-of-type {\n",
       "        vertical-align: middle;\n",
       "    }\n",
       "\n",
       "    .dataframe tbody tr th {\n",
       "        vertical-align: top;\n",
       "    }\n",
       "\n",
       "    .dataframe thead th {\n",
       "        text-align: right;\n",
       "    }\n",
       "</style>\n",
       "<table border=\"1\" class=\"dataframe\">\n",
       "  <thead>\n",
       "    <tr style=\"text-align: right;\">\n",
       "      <th></th>\n",
       "      <th>0</th>\n",
       "      <th>1</th>\n",
       "      <th>2</th>\n",
       "      <th>3</th>\n",
       "      <th>4</th>\n",
       "      <th>5</th>\n",
       "      <th>6</th>\n",
       "      <th>7</th>\n",
       "      <th>8</th>\n",
       "      <th>9</th>\n",
       "      <th>...</th>\n",
       "      <th>230545</th>\n",
       "      <th>230546</th>\n",
       "      <th>230547</th>\n",
       "      <th>230548</th>\n",
       "      <th>230549</th>\n",
       "      <th>230550</th>\n",
       "      <th>230551</th>\n",
       "      <th>230552</th>\n",
       "      <th>230553</th>\n",
       "      <th>230554</th>\n",
       "    </tr>\n",
       "  </thead>\n",
       "  <tbody>\n",
       "    <tr>\n",
       "      <th>0</th>\n",
       "      <td>{'timestamp': {'type': 'DateTime', 'metadata':...</td>\n",
       "      <td>{'timestamp': {'type': 'DateTime', 'metadata':...</td>\n",
       "      <td>{'timestamp': {'type': 'DateTime', 'metadata':...</td>\n",
       "      <td>{'timestamp': {'type': 'DateTime', 'metadata':...</td>\n",
       "      <td>{'timestamp': {'type': 'DateTime', 'metadata':...</td>\n",
       "      <td>{'timestamp': {'type': 'DateTime', 'metadata':...</td>\n",
       "      <td>{'timestamp': {'type': 'DateTime', 'metadata':...</td>\n",
       "      <td>{'timestamp': {'type': 'DateTime', 'metadata':...</td>\n",
       "      <td>{'timestamp': {'type': 'DateTime', 'metadata':...</td>\n",
       "      <td>{'timestamp': {'type': 'DateTime', 'metadata':...</td>\n",
       "      <td>...</td>\n",
       "      <td>{'timestamp': {'type': 'DateTime', 'metadata':...</td>\n",
       "      <td>{'timestamp': {'type': 'DateTime', 'metadata':...</td>\n",
       "      <td>{'timestamp': {'type': 'DateTime', 'metadata':...</td>\n",
       "      <td>{'timestamp': {'type': 'DateTime', 'metadata':...</td>\n",
       "      <td>{'timestamp': {'type': 'DateTime', 'metadata':...</td>\n",
       "      <td>{'timestamp': {'type': 'DateTime', 'metadata':...</td>\n",
       "      <td>{'timestamp': {'type': 'DateTime', 'metadata':...</td>\n",
       "      <td>{'timestamp': {'type': 'DateTime', 'metadata':...</td>\n",
       "      <td>{'timestamp': {'type': 'DateTime', 'metadata':...</td>\n",
       "      <td>{'timestamp': {'type': 'DateTime', 'metadata':...</td>\n",
       "    </tr>\n",
       "  </tbody>\n",
       "</table>\n",
       "<p>1 rows × 230555 columns</p>\n",
       "</div>"
      ],
      "text/plain": [
       "                                              0       \\\n",
       "0  {'timestamp': {'type': 'DateTime', 'metadata':...   \n",
       "\n",
       "                                              1       \\\n",
       "0  {'timestamp': {'type': 'DateTime', 'metadata':...   \n",
       "\n",
       "                                              2       \\\n",
       "0  {'timestamp': {'type': 'DateTime', 'metadata':...   \n",
       "\n",
       "                                              3       \\\n",
       "0  {'timestamp': {'type': 'DateTime', 'metadata':...   \n",
       "\n",
       "                                              4       \\\n",
       "0  {'timestamp': {'type': 'DateTime', 'metadata':...   \n",
       "\n",
       "                                              5       \\\n",
       "0  {'timestamp': {'type': 'DateTime', 'metadata':...   \n",
       "\n",
       "                                              6       \\\n",
       "0  {'timestamp': {'type': 'DateTime', 'metadata':...   \n",
       "\n",
       "                                              7       \\\n",
       "0  {'timestamp': {'type': 'DateTime', 'metadata':...   \n",
       "\n",
       "                                              8       \\\n",
       "0  {'timestamp': {'type': 'DateTime', 'metadata':...   \n",
       "\n",
       "                                              9       \\\n",
       "0  {'timestamp': {'type': 'DateTime', 'metadata':...   \n",
       "\n",
       "                         ...                          \\\n",
       "0                        ...                           \n",
       "\n",
       "                                              230545  \\\n",
       "0  {'timestamp': {'type': 'DateTime', 'metadata':...   \n",
       "\n",
       "                                              230546  \\\n",
       "0  {'timestamp': {'type': 'DateTime', 'metadata':...   \n",
       "\n",
       "                                              230547  \\\n",
       "0  {'timestamp': {'type': 'DateTime', 'metadata':...   \n",
       "\n",
       "                                              230548  \\\n",
       "0  {'timestamp': {'type': 'DateTime', 'metadata':...   \n",
       "\n",
       "                                              230549  \\\n",
       "0  {'timestamp': {'type': 'DateTime', 'metadata':...   \n",
       "\n",
       "                                              230550  \\\n",
       "0  {'timestamp': {'type': 'DateTime', 'metadata':...   \n",
       "\n",
       "                                              230551  \\\n",
       "0  {'timestamp': {'type': 'DateTime', 'metadata':...   \n",
       "\n",
       "                                              230552  \\\n",
       "0  {'timestamp': {'type': 'DateTime', 'metadata':...   \n",
       "\n",
       "                                              230553  \\\n",
       "0  {'timestamp': {'type': 'DateTime', 'metadata':...   \n",
       "\n",
       "                                              230554  \n",
       "0  {'timestamp': {'type': 'DateTime', 'metadata':...  \n",
       "\n",
       "[1 rows x 230555 columns]"
      ]
     },
     "execution_count": 28,
     "metadata": {},
     "output_type": "execute_result"
    }
   ],
   "source": [
    "entry"
   ]
  },
  {
   "cell_type": "code",
   "execution_count": 64,
   "metadata": {},
   "outputs": [],
   "source": [
    "entry_as_string = entry.applymap(lambda x: str(x))"
   ]
  },
  {
   "cell_type": "code",
   "execution_count": 65,
   "metadata": {},
   "outputs": [],
   "source": [
    "entry_as_string = entry_as_string.values.reshape(-1,1)"
   ]
  },
  {
   "cell_type": "code",
   "execution_count": 66,
   "metadata": {},
   "outputs": [
    {
     "data": {
      "text/plain": [
       "array([[\"{'timestamp': {'type': 'DateTime', 'metadata': {}, 'value': '2018-10-02T16:41:11'}, 'id': 75, 'codigoBus': {'type': 'Number', 'metadata': {}, 'value': 75}, 'type': 'Bus', 'linea': {'type': 'Text', 'metadata': {}, 'value': '566'}, 'objectId': '5bd165afff1728171abc73d2', 'location': {'type': 'geo:json', 'metadata': {}, 'value': {'type': 'Point', 'coordinates': [-56.110195, -34.88714]}}}\"],\n",
       "       [\"{'timestamp': {'type': 'DateTime', 'metadata': {}, 'value': '2018-10-02T16:41:11'}, 'id': 1111, 'codigoBus': {'type': 'Number', 'metadata': {}, 'value': 1111}, 'type': 'Bus', 'linea': {'type': 'Text', 'metadata': {}, 'value': '254'}, 'objectId': '5bd165afff1728171abc73db', 'location': {'type': 'geo:json', 'metadata': {}, 'value': {'type': 'Point', 'coordinates': [-56.191277, -34.90597]}}}\"],\n",
       "       [\"{'timestamp': {'type': 'DateTime', 'metadata': {}, 'value': '2018-10-02T16:41:11'}, 'id': 957, 'codigoBus': {'type': 'Number', 'metadata': {}, 'value': 957}, 'type': 'Bus', 'linea': {'type': 'Text', 'metadata': {}, 'value': '7902'}, 'objectId': '5bd165afff1728171abc73b9', 'location': {'type': 'geo:json', 'metadata': {}, 'value': {'type': 'Point', 'coordinates': [-56.16672, -34.897167]}}}\"],\n",
       "       ...,\n",
       "       [\"{'timestamp': {'type': 'DateTime', 'metadata': {}, 'value': '2018-10-02T18:10:28'}, 'id': 121, 'codigoBus': {'type': 'Number', 'metadata': {}, 'value': 121}, 'type': 'Bus', 'linea': {'type': 'Text', 'metadata': {}, 'value': '7704'}, 'objectId': '5bd1b563ff172828c936cbb8', 'location': {'type': 'geo:json', 'metadata': {}, 'value': {'type': 'Point', 'coordinates': [-56.175167, -34.903778]}}}\"],\n",
       "       [\"{'timestamp': {'type': 'DateTime', 'metadata': {}, 'value': '2018-10-02T18:10:28'}, 'id': 301, 'codigoBus': {'type': 'Number', 'metadata': {}, 'value': 301}, 'type': 'Bus', 'linea': {'type': 'Text', 'metadata': {}, 'value': '7903'}, 'objectId': '5bd1b563ff172828c936cbb9', 'location': {'type': 'geo:json', 'metadata': {}, 'value': {'type': 'Point', 'coordinates': [-56.111305, -34.883278]}}}\"],\n",
       "       [\"{'timestamp': {'type': 'DateTime', 'metadata': {}, 'value': '2018-10-02T18:10:28'}, 'id': 89, 'codigoBus': {'type': 'Number', 'metadata': {}, 'value': 89}, 'type': 'Bus', 'linea': {'type': 'Text', 'metadata': {}, 'value': '227'}, 'objectId': '5bd1b563ff172828c936cbba', 'location': {'type': 'geo:json', 'metadata': {}, 'value': {'type': 'Point', 'coordinates': [-56.12886, -34.83311]}}}\"]],\n",
       "      dtype=object)"
      ]
     },
     "execution_count": 66,
     "metadata": {},
     "output_type": "execute_result"
    }
   ],
   "source": [
    "entry_as_string"
   ]
  },
  {
   "cell_type": "code",
   "execution_count": 67,
   "metadata": {},
   "outputs": [],
   "source": [
    "unique_data = np.unique(entry_as_string)"
   ]
  },
  {
   "cell_type": "code",
   "execution_count": 72,
   "metadata": {},
   "outputs": [
    {
     "name": "stdout",
     "output_type": "stream",
     "text": [
      "Original Values: 230555\n",
      "Unique Values: 230555\n",
      "Duplicated Values: 0\n"
     ]
    }
   ],
   "source": [
    "print('Original Values: {0}\\nUnique Values: {1}\\nDuplicated Values: {2}'.format(len(entry_as_string),\n",
    "                                                                              len(unique_data),\n",
    "                                                                              (len(entry_as_string)-len(unique_data))))"
   ]
  },
  {
   "cell_type": "code",
   "execution_count": 73,
   "metadata": {},
   "outputs": [
    {
     "data": {
      "text/plain": [
       "array([\"{'timestamp': {'type': 'DateTime', 'metadata': {}, 'value': '2018-10-02T16:41:11'}, 'id': 75, 'codigoBus': {'type': 'Number', 'metadata': {}, 'value': 75}, 'type': 'Bus', 'linea': {'type': 'Text', 'metadata': {}, 'value': '566'}, 'objectId': '5bd165afff1728171abc73d2', 'location': {'type': 'geo:json', 'metadata': {}, 'value': {'type': 'Point', 'coordinates': [-56.110195, -34.88714]}}}\"],\n",
       "      dtype=object)"
      ]
     },
     "execution_count": 73,
     "metadata": {},
     "output_type": "execute_result"
    }
   ],
   "source": [
    "entry_as_string[0]"
   ]
  },
  {
   "cell_type": "code",
   "execution_count": null,
   "metadata": {},
   "outputs": [],
   "source": []
  }
 ],
 "metadata": {
  "kernelspec": {
   "display_name": "Python 3",
   "language": "python",
   "name": "python3"
  },
  "language_info": {
   "codemirror_mode": {
    "name": "ipython",
    "version": 3
   },
   "file_extension": ".py",
   "mimetype": "text/x-python",
   "name": "python",
   "nbconvert_exporter": "python",
   "pygments_lexer": "ipython3",
   "version": "3.5.5"
  }
 },
 "nbformat": 4,
 "nbformat_minor": 2
}
